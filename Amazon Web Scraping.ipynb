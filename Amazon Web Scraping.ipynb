{
 "cells": [
  {
   "cell_type": "code",
   "execution_count": 1,
   "id": "7b7db572",
   "metadata": {},
   "outputs": [],
   "source": [
    "from bs4 import BeautifulSoup\n",
    "import requests\n",
    "import time\n",
    "import datetime\n",
    "\n",
    "import smtplib"
   ]
  },
  {
   "cell_type": "code",
   "execution_count": 110,
   "id": "43ee8eab",
   "metadata": {},
   "outputs": [
    {
     "name": "stdout",
     "output_type": "stream",
     "text": [
      "\n",
      "                   Never Underestimate Data Analyst T-Shirt\n",
      "                  \n",
      "\n",
      "\n",
      "\n",
      "\n",
      "\n",
      "                  $19.99\n",
      "                 \n",
      "\n",
      "\n",
      "                   $\n",
      "                  \n",
      "\n",
      "                   19\n",
      "                   \n",
      "                    .\n",
      "                   \n",
      "\n",
      "\n",
      "                   99\n",
      "                  \n",
      "\n",
      "\n",
      "\n",
      "\n",
      "\n",
      "\n",
      "\n",
      "\n",
      "\n",
      "\n",
      "\n",
      "\n",
      "\n",
      "\n",
      "\n",
      "                    Color:\n",
      "                   \n",
      "\n",
      "                    White\n",
      "                   \n",
      "\n",
      "\n",
      "\n",
      "                  Brand: TeeTina\n",
      "                 \n"
     ]
    }
   ],
   "source": [
    "# Connecting to amazon website and pulling data\n",
    "\n",
    "URL = 'https://www.amazon.com/Never-Underestimate-Analyst-T-Shirt-White/dp/B07YMQHG2S/ref=sr_1_1?keywords=data%2Banalyst%2Btshirt&qid=1663433069&sr=8-1&th=1&psc=1'\n",
    "\n",
    "headers = {\"User-Agent\": \"Mozilla/5.0 (Windows NT 10.0; Win64; x64) AppleWebKit/537.36 (KHTML, like Gecko) Chrome/105.0.0.0 Safari/537.36\", \"Accept-Encoding\":\"gzip, deflate\", \"Accept\":\"text/html,application/xhtml+xml,application/xml;q=0.9,*/*;q=0.8\", \"DNT\":\"1\",\"Connection\":\"close\", \"Upgrade-Insecure-Requests\":\"1\"}\n",
    "\n",
    "page = requests.get(URL, headers=headers)\n",
    "\n",
    "soup1 = BeautifulSoup(page.content, \"html.parser\")\n",
    "\n",
    "soup2 = BeautifulSoup(soup1.prettify(), \"html.parser\")\n",
    "\n",
    "title = soup2.find(id='productTitle').get_text()\n",
    "price= soup2.find(id='corePriceDisplay_desktop_feature_div').get_text()\n",
    "color = soup2.find(id='variation_color_name').get_text()\n",
    "brand= soup2.find(id='bylineInfo').get_text()\n",
    "\n",
    "print(title)\n",
    "print(price)\n",
    "print(color)\n",
    "print(brand)"
   ]
  },
  {
   "cell_type": "code",
   "execution_count": 80,
   "id": "04c3f2d8",
   "metadata": {},
   "outputs": [
    {
     "name": "stdout",
     "output_type": "stream",
     "text": [
      "2022-09-17\n",
      "\n",
      "                   Never Underestimate Data Analyst T-Shirt\n",
      "                  \n",
      "\n",
      "\n",
      "\n",
      "                    Color:\n",
      "                   \n",
      "\n",
      "                    White\n",
      "                   \n",
      "\n",
      "\n",
      "\n",
      "\n",
      "\n",
      "\n",
      "\n",
      "                  $19.99\n",
      "                 \n",
      "\n",
      "\n",
      "                   $\n",
      "                  \n",
      "\n",
      "                   19\n",
      "                   \n",
      "                    .\n",
      "                   \n",
      "\n",
      "\n",
      "                   99\n",
      "                  \n",
      "\n",
      "\n",
      "\n",
      "\n",
      "\n",
      "\n",
      "\n",
      "\n",
      "\n",
      "\n",
      "\n",
      "\n"
     ]
    }
   ],
   "source": [
    "#creating time stamp\n",
    "\n",
    "import datetime\n",
    "\n",
    "today = datetime.date.today()\n",
    "\n",
    "print(today)\n",
    "print(title)\n",
    "print(color)\n",
    "print(price)"
   ]
  },
  {
   "cell_type": "code",
   "execution_count": 112,
   "id": "e2064c79",
   "metadata": {},
   "outputs": [],
   "source": [
    "title=title.strip()"
   ]
  },
  {
   "cell_type": "code",
   "execution_count": 113,
   "id": "0b1a2cf1",
   "metadata": {},
   "outputs": [],
   "source": [
    "color=color.strip()[-5:]"
   ]
  },
  {
   "cell_type": "code",
   "execution_count": 114,
   "id": "5a108720",
   "metadata": {},
   "outputs": [],
   "source": [
    "brand=brand.strip()[-7:]"
   ]
  },
  {
   "cell_type": "code",
   "execution_count": 111,
   "id": "919f1eca",
   "metadata": {},
   "outputs": [
    {
     "name": "stdout",
     "output_type": "stream",
     "text": [
      "19.99\n"
     ]
    }
   ],
   "source": [
    "price=price.strip()[1:6]\n",
    "print(price)"
   ]
  },
  {
   "cell_type": "markdown",
   "id": "5f8760ae",
   "metadata": {},
   "source": [
    "print(today)\n",
    "print(title)\n",
    "print(color)\n",
    "print(price)"
   ]
  },
  {
   "cell_type": "code",
   "execution_count": 115,
   "id": "8e978ce5",
   "metadata": {},
   "outputs": [],
   "source": [
    "#Putting the scraped data into a csv file\n",
    "\n",
    "import csv \n",
    "\n",
    "header = ['Title', 'Color', 'Brand','Price','Date']\n",
    "data = [title,color,brand,price,today]\n",
    "\n",
    "\n",
    "with open('AmazonWebScraperData.csv', 'w', newline='', encoding='UTF8') as f:\n",
    "    writer = csv.writer(f)\n",
    "    writer.writerow(header)\n",
    "    writer.writerow(data)"
   ]
  },
  {
   "cell_type": "code",
   "execution_count": 116,
   "id": "9d7f6aba",
   "metadata": {},
   "outputs": [
    {
     "name": "stdout",
     "output_type": "stream",
     "text": [
      "                                      Title  Color    Brand  Price        Date\n",
      "0  Never Underestimate Data Analyst T-Shirt  White  TeeTina  19.99  2022-09-17\n"
     ]
    }
   ],
   "source": [
    "#Read the csv file\n",
    "import pandas as pd\n",
    "\n",
    "df = pd.read_csv(r'C:\\Users\\mitha\\AmazonWebScraperData.csv')\n",
    "\n",
    "print(df)"
   ]
  },
  {
   "cell_type": "code",
   "execution_count": null,
   "id": "628e2989",
   "metadata": {},
   "outputs": [],
   "source": [
    "# writing a function to check the change in price of the product on a daily basis\n",
    "\n",
    "def check_price():\n",
    "    URL = 'https://www.amazon.com/Never-Underestimate-Analyst-T-Shirt-White/dp/B07YMQHG2S/ref=sr_1_1?keywords=data%2Banalyst%2Btshirt&qid=1663433069&sr=8-1&th=1&psc=1'\n",
    "\n",
    "headers = {\"User-Agent\": \"Mozilla/5.0 (Windows NT 10.0; Win64; x64) AppleWebKit/537.36 (KHTML, like Gecko) Chrome/105.0.0.0 Safari/537.36\", \"Accept-Encoding\":\"gzip, deflate\", \"Accept\":\"text/html,application/xhtml+xml,application/xml;q=0.9,*/*;q=0.8\", \"DNT\":\"1\",\"Connection\":\"close\", \"Upgrade-Insecure-Requests\":\"1\"}\n",
    "\n",
    "page = requests.get(URL, headers=headers)\n",
    "\n",
    "soup1 = BeautifulSoup(page.content, \"html.parser\")\n",
    "\n",
    "soup2 = BeautifulSoup(soup1.prettify(), \"html.parser\")\n",
    "\n",
    "title = soup2.find(id='productTitle').get_text()\n",
    "price= soup2.find(id='corePriceDisplay_desktop_feature_div').get_text()\n",
    "color = soup2.find(id='variation_color_name').get_text()\n",
    "brand= soup2.find(id='bylineInfo').get_text()\n",
    "\n",
    "import datetime\n",
    "\n",
    "today = datetime.date.today()\n",
    "title=title.strip()\n",
    "color=color.strip()[-5:]\n",
    "brand=brand.strip()[-7:]\n",
    "price=price.strip()[1:6]\n",
    "\n",
    "import csv \n",
    "\n",
    "header = ['Title', 'Color', 'Brand','Price','Date']\n",
    "data = [title,color,brand,price,today]\n",
    "\n",
    "\n",
    "with open('AmazonWebScraperData.csv', 'w', newline='', encoding='UTF8') as f:\n",
    "    writer = csv.writer(f)\n",
    "    writer.writerow(header)\n",
    "    writer.writerow(data)\n",
    "    \n",
    "#send email alert if price drops below $14\n",
    "\n",
    "if(price<25):\n",
    "    send_mail()\n",
    "\n"
   ]
  },
  {
   "cell_type": "code",
   "execution_count": null,
   "id": "dd2fd6a8",
   "metadata": {},
   "outputs": [],
   "source": [
    "# code to check daily if the price changes\n",
    "\n",
    "while(True):\n",
    "    check_price()\n",
    "    time.sleep(86400)"
   ]
  },
  {
   "cell_type": "code",
   "execution_count": null,
   "id": "43f5a3b6",
   "metadata": {},
   "outputs": [],
   "source": [
    "def send_mail():\n",
    "    server = smtplib.SMTP_SSL('smtp.gmail.com',465)\n",
    "    server.ehlo()\n",
    "    #server.starttls()\n",
    "    server.ehlo()\n",
    "    server.login('mithaeie@gmail.com','xxxxxxxxxxxxxx')\n",
    "    \n",
    "    subject = \"The Shirt you want is below $25! Now is your chance to buy!\"\n",
    "    body = \"Madhu, This is the moment we have been waiting for. Now is your chance to pick up the shirt of your dreams. Don't mess it up! Link here: https://www.amazon.com/Funny-Data-Systems-Business-Analyst/dp/B07FNW9FGJ/ref=sr_1_3?dchild=1&keywords=data+analyst+tshirt&qid=1626655184&sr=8-3\"\n",
    "   \n",
    "    msg = f\"Subject: {subject}\\n\\n{body}\"\n",
    "    \n",
    "    server.sendmail(\n",
    "        'mithaeie@gmail.com',\n",
    "        msg\n",
    "     \n",
    "    )"
   ]
  },
  {
   "cell_type": "code",
   "execution_count": null,
   "id": "78c16a81",
   "metadata": {},
   "outputs": [],
   "source": []
  }
 ],
 "metadata": {
  "kernelspec": {
   "display_name": "Python 3 (ipykernel)",
   "language": "python",
   "name": "python3"
  },
  "language_info": {
   "codemirror_mode": {
    "name": "ipython",
    "version": 3
   },
   "file_extension": ".py",
   "mimetype": "text/x-python",
   "name": "python",
   "nbconvert_exporter": "python",
   "pygments_lexer": "ipython3",
   "version": "3.9.7"
  }
 },
 "nbformat": 4,
 "nbformat_minor": 5
}
